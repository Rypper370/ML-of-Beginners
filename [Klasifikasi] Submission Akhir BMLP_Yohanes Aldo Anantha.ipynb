{
 "cells": [
  {
   "cell_type": "markdown",
   "metadata": {
    "id": "fKADPWcFKlj3"
   },
   "source": [
    "# **1. Import Library**"
   ]
  },
  {
   "cell_type": "markdown",
   "metadata": {
    "id": "LgA3ERnVn84N"
   },
   "source": [
    "Pada tahap ini, Anda perlu mengimpor beberapa pustaka (library) Python yang dibutuhkan untuk analisis data dan pembangunan model machine learning."
   ]
  },
  {
   "cell_type": "code",
   "execution_count": 1,
   "metadata": {
    "colab": {
     "base_uri": "https://localhost:8080/"
    },
    "executionInfo": {
     "elapsed": 3290,
     "status": "ok",
     "timestamp": 1744105380885,
     "user": {
      "displayName": "Yohanes Anantha",
      "userId": "06639557696555319351"
     },
     "user_tz": -420
    },
    "id": "BlmvjLY9M4Yj",
    "outputId": "9c89b231-c662-4b91-f338-b11fbbe0b037"
   },
   "outputs": [],
   "source": [
    "import pandas as pd\n",
    "import numpy as np\n",
    "import seaborn as sns\n",
    "import matplotlib.pyplot as plt\n",
    "from sklearn.model_selection import train_test_split\n",
    "from sklearn.preprocessing import LabelEncoder, StandardScaler, MinMaxScaler\n",
    "from sklearn.neighbors import KNeighborsClassifier\n",
    "from sklearn.ensemble import RandomForestClassifier\n",
    "from sklearn.metrics import confusion_matrix, accuracy_score, precision_score, recall_score, f1_score\n",
    "from sklearn.model_selection import  RandomizedSearchCV\n",
    "from scipy.stats import randint"
   ]
  },
  {
   "cell_type": "markdown",
   "metadata": {
    "id": "f3YIEnAFKrKL"
   },
   "source": [
    "# **2. Memuat Dataset dari Hasil Clustering**"
   ]
  },
  {
   "cell_type": "markdown",
   "metadata": {
    "id": "Ey3ItwTen_7E"
   },
   "source": [
    "Memuat dataset hasil clustering dari file CSV ke dalam variabel DataFrame."
   ]
  },
  {
   "cell_type": "code",
   "execution_count": 2,
   "metadata": {
    "colab": {
     "base_uri": "https://localhost:8080/",
     "height": 206
    },
    "executionInfo": {
     "elapsed": 169,
     "status": "ok",
     "timestamp": 1744105381055,
     "user": {
      "displayName": "Yohanes Anantha",
      "userId": "06639557696555319351"
     },
     "user_tz": -420
    },
    "id": "GHCGNTyrM5fS",
    "outputId": "608f22fc-5866-4e7d-e9d6-0d01bd90bc3c"
   },
   "outputs": [
    {
     "data": {
      "text/html": [
       "<div>\n",
       "<style scoped>\n",
       "    .dataframe tbody tr th:only-of-type {\n",
       "        vertical-align: middle;\n",
       "    }\n",
       "\n",
       "    .dataframe tbody tr th {\n",
       "        vertical-align: top;\n",
       "    }\n",
       "\n",
       "    .dataframe thead th {\n",
       "        text-align: right;\n",
       "    }\n",
       "</style>\n",
       "<table border=\"1\" class=\"dataframe\">\n",
       "  <thead>\n",
       "    <tr style=\"text-align: right;\">\n",
       "      <th></th>\n",
       "      <th>Customer_Type</th>\n",
       "      <th>Product</th>\n",
       "      <th>Category</th>\n",
       "      <th>Unit_Price</th>\n",
       "      <th>Quantity</th>\n",
       "      <th>Discount</th>\n",
       "      <th>Total_Price</th>\n",
       "      <th>Region</th>\n",
       "      <th>Cluster</th>\n",
       "    </tr>\n",
       "  </thead>\n",
       "  <tbody>\n",
       "    <tr>\n",
       "      <th>0</th>\n",
       "      <td>B2B</td>\n",
       "      <td>Apollinaris</td>\n",
       "      <td>Juices</td>\n",
       "      <td>1.66</td>\n",
       "      <td>53.0</td>\n",
       "      <td>0.10</td>\n",
       "      <td>79.18</td>\n",
       "      <td>Baden-Württemberg</td>\n",
       "      <td>2</td>\n",
       "    </tr>\n",
       "    <tr>\n",
       "      <th>1</th>\n",
       "      <td>B2B</td>\n",
       "      <td>Apollinaris</td>\n",
       "      <td>Juices</td>\n",
       "      <td>0.87</td>\n",
       "      <td>35.0</td>\n",
       "      <td>0.10</td>\n",
       "      <td>27.40</td>\n",
       "      <td>Baden-Württemberg</td>\n",
       "      <td>2</td>\n",
       "    </tr>\n",
       "    <tr>\n",
       "      <th>2</th>\n",
       "      <td>B2B</td>\n",
       "      <td>Apollinaris</td>\n",
       "      <td>Alcoholic Beverages</td>\n",
       "      <td>2.14</td>\n",
       "      <td>44.0</td>\n",
       "      <td>0.10</td>\n",
       "      <td>84.74</td>\n",
       "      <td>Baden-Württemberg</td>\n",
       "      <td>2</td>\n",
       "    </tr>\n",
       "    <tr>\n",
       "      <th>3</th>\n",
       "      <td>B2B</td>\n",
       "      <td>Apollinaris</td>\n",
       "      <td>Juices</td>\n",
       "      <td>0.43</td>\n",
       "      <td>13.0</td>\n",
       "      <td>0.05</td>\n",
       "      <td>5.31</td>\n",
       "      <td>Baden-Württemberg</td>\n",
       "      <td>1</td>\n",
       "    </tr>\n",
       "    <tr>\n",
       "      <th>4</th>\n",
       "      <td>B2B</td>\n",
       "      <td>Apollinaris</td>\n",
       "      <td>Juices</td>\n",
       "      <td>1.38</td>\n",
       "      <td>3.0</td>\n",
       "      <td>0.05</td>\n",
       "      <td>3.93</td>\n",
       "      <td>Baden-Württemberg</td>\n",
       "      <td>1</td>\n",
       "    </tr>\n",
       "  </tbody>\n",
       "</table>\n",
       "</div>"
      ],
      "text/plain": [
       "  Customer_Type      Product             Category  Unit_Price  Quantity  \\\n",
       "0           B2B  Apollinaris               Juices        1.66      53.0   \n",
       "1           B2B  Apollinaris               Juices        0.87      35.0   \n",
       "2           B2B  Apollinaris  Alcoholic Beverages        2.14      44.0   \n",
       "3           B2B  Apollinaris               Juices        0.43      13.0   \n",
       "4           B2B  Apollinaris               Juices        1.38       3.0   \n",
       "\n",
       "   Discount  Total_Price             Region  Cluster  \n",
       "0      0.10        79.18  Baden-Württemberg        2  \n",
       "1      0.10        27.40  Baden-Württemberg        2  \n",
       "2      0.10        84.74  Baden-Württemberg        2  \n",
       "3      0.05         5.31  Baden-Württemberg        1  \n",
       "4      0.05         3.93  Baden-Württemberg        1  "
      ]
     },
     "execution_count": 2,
     "metadata": {},
     "output_type": "execute_result"
    }
   ],
   "source": [
    "df = pd.read_csv('Hasil_Clustering.csv')\n",
    "df.head()"
   ]
  },
  {
   "cell_type": "code",
   "execution_count": 3,
   "metadata": {
    "colab": {
     "base_uri": "https://localhost:8080/"
    },
    "executionInfo": {
     "elapsed": 7,
     "status": "ok",
     "timestamp": 1744105381064,
     "user": {
      "displayName": "Yohanes Anantha",
      "userId": "06639557696555319351"
     },
     "user_tz": -420
    },
    "id": "rBNMKc1OUIGw",
    "outputId": "95b7b978-5cde-4a08-bba0-880391514244"
   },
   "outputs": [
    {
     "name": "stdout",
     "output_type": "stream",
     "text": [
      "<class 'pandas.core.frame.DataFrame'>\n",
      "RangeIndex: 38312 entries, 0 to 38311\n",
      "Data columns (total 9 columns):\n",
      " #   Column         Non-Null Count  Dtype  \n",
      "---  ------         --------------  -----  \n",
      " 0   Customer_Type  38312 non-null  object \n",
      " 1   Product        38312 non-null  object \n",
      " 2   Category       38312 non-null  object \n",
      " 3   Unit_Price     38312 non-null  float64\n",
      " 4   Quantity       38312 non-null  float64\n",
      " 5   Discount       38312 non-null  float64\n",
      " 6   Total_Price    38312 non-null  float64\n",
      " 7   Region         38312 non-null  object \n",
      " 8   Cluster        38312 non-null  int64  \n",
      "dtypes: float64(4), int64(1), object(4)\n",
      "memory usage: 2.6+ MB\n"
     ]
    }
   ],
   "source": [
    "df.info()"
   ]
  },
  {
   "cell_type": "code",
   "execution_count": 4,
   "metadata": {
    "colab": {
     "base_uri": "https://localhost:8080/"
    },
    "executionInfo": {
     "elapsed": 24,
     "status": "ok",
     "timestamp": 1744105381089,
     "user": {
      "displayName": "Yohanes Anantha",
      "userId": "06639557696555319351"
     },
     "user_tz": -420
    },
    "id": "CaAmxbleUNiF",
    "outputId": "25af128a-4220-4087-d4f4-868f084056c9"
   },
   "outputs": [
    {
     "name": "stdout",
     "output_type": "stream",
     "text": [
      "\n",
      "Missing values per fitur:\n",
      "Customer_Type    0\n",
      "Product          0\n",
      "Category         0\n",
      "Unit_Price       0\n",
      "Quantity         0\n",
      "Discount         0\n",
      "Total_Price      0\n",
      "Region           0\n",
      "Cluster          0\n",
      "dtype: int64\n"
     ]
    }
   ],
   "source": [
    "print(\"\\nMissing values per fitur:\")\n",
    "print(df.isnull().sum())"
   ]
  },
  {
   "cell_type": "markdown",
   "metadata": {
    "id": "KkPem5eWL2UP"
   },
   "source": [
    "# **3. Data Splitting**"
   ]
  },
  {
   "cell_type": "markdown",
   "metadata": {
    "id": "YYj1rl_JNI9Y"
   },
   "source": [
    "Tahap Data Splitting bertujuan untuk memisahkan dataset menjadi dua bagian: data latih (training set) dan data uji (test set)."
   ]
  },
  {
   "cell_type": "code",
   "execution_count": 5,
   "metadata": {},
   "outputs": [],
   "source": [
    "# Pisahkan fitur (X) dan target (y)\n",
    "X = df.drop(columns=['Cluster'])\n",
    "y = df['Cluster']"
   ]
  },
  {
   "cell_type": "markdown",
   "metadata": {
    "id": "LEhnM6juiVVJ"
   },
   "source": [
    "####Label Encoder"
   ]
  },
  {
   "cell_type": "code",
   "execution_count": 6,
   "metadata": {
    "id": "XQshSKgDiYKM"
   },
   "outputs": [],
   "source": [
    "# Buat instance LabelEncoder\n",
    "label_encoder = LabelEncoder()\n",
    "categorical_columns = [\"Customer_Type\",\"Product\", \"Category\", \"Region\"]\n",
    "for column in categorical_columns:\n",
    "    X[column] = label_encoder.fit_transform(X[column])"
   ]
  },
  {
   "cell_type": "markdown",
   "metadata": {
    "id": "uHR7LuukikSx"
   },
   "source": [
    "####Normalisasi kolom"
   ]
  },
  {
   "cell_type": "code",
   "execution_count": 7,
   "metadata": {
    "id": "kQHbfgIqigEt"
   },
   "outputs": [
    {
     "data": {
      "text/html": [
       "<div>\n",
       "<style scoped>\n",
       "    .dataframe tbody tr th:only-of-type {\n",
       "        vertical-align: middle;\n",
       "    }\n",
       "\n",
       "    .dataframe tbody tr th {\n",
       "        vertical-align: top;\n",
       "    }\n",
       "\n",
       "    .dataframe thead th {\n",
       "        text-align: right;\n",
       "    }\n",
       "</style>\n",
       "<table border=\"1\" class=\"dataframe\">\n",
       "  <thead>\n",
       "    <tr style=\"text-align: right;\">\n",
       "      <th></th>\n",
       "      <th>Customer_Type</th>\n",
       "      <th>Product</th>\n",
       "      <th>Category</th>\n",
       "      <th>Unit_Price</th>\n",
       "      <th>Quantity</th>\n",
       "      <th>Discount</th>\n",
       "      <th>Total_Price</th>\n",
       "      <th>Region</th>\n",
       "    </tr>\n",
       "  </thead>\n",
       "  <tbody>\n",
       "    <tr>\n",
       "      <th>0</th>\n",
       "      <td>0</td>\n",
       "      <td>0</td>\n",
       "      <td>1</td>\n",
       "      <td>-0.123884</td>\n",
       "      <td>2.659342</td>\n",
       "      <td>2.369021</td>\n",
       "      <td>2.156047</td>\n",
       "      <td>0</td>\n",
       "    </tr>\n",
       "    <tr>\n",
       "      <th>1</th>\n",
       "      <td>0</td>\n",
       "      <td>0</td>\n",
       "      <td>1</td>\n",
       "      <td>-0.873613</td>\n",
       "      <td>1.425655</td>\n",
       "      <td>2.369021</td>\n",
       "      <td>0.168242</td>\n",
       "      <td>0</td>\n",
       "    </tr>\n",
       "    <tr>\n",
       "      <th>2</th>\n",
       "      <td>0</td>\n",
       "      <td>0</td>\n",
       "      <td>0</td>\n",
       "      <td>0.331648</td>\n",
       "      <td>2.042499</td>\n",
       "      <td>2.369021</td>\n",
       "      <td>2.369492</td>\n",
       "      <td>0</td>\n",
       "    </tr>\n",
       "    <tr>\n",
       "      <th>3</th>\n",
       "      <td>0</td>\n",
       "      <td>0</td>\n",
       "      <td>1</td>\n",
       "      <td>-1.291184</td>\n",
       "      <td>-0.082184</td>\n",
       "      <td>0.918965</td>\n",
       "      <td>-0.679781</td>\n",
       "      <td>0</td>\n",
       "    </tr>\n",
       "    <tr>\n",
       "      <th>4</th>\n",
       "      <td>0</td>\n",
       "      <td>0</td>\n",
       "      <td>1</td>\n",
       "      <td>-0.389610</td>\n",
       "      <td>-0.767566</td>\n",
       "      <td>0.918965</td>\n",
       "      <td>-0.732759</td>\n",
       "      <td>0</td>\n",
       "    </tr>\n",
       "    <tr>\n",
       "      <th>...</th>\n",
       "      <td>...</td>\n",
       "      <td>...</td>\n",
       "      <td>...</td>\n",
       "      <td>...</td>\n",
       "      <td>...</td>\n",
       "      <td>...</td>\n",
       "      <td>...</td>\n",
       "      <td>...</td>\n",
       "    </tr>\n",
       "    <tr>\n",
       "      <th>38307</th>\n",
       "      <td>1</td>\n",
       "      <td>0</td>\n",
       "      <td>0</td>\n",
       "      <td>1.783656</td>\n",
       "      <td>-0.836104</td>\n",
       "      <td>-0.531092</td>\n",
       "      <td>-0.601851</td>\n",
       "      <td>0</td>\n",
       "    </tr>\n",
       "    <tr>\n",
       "      <th>38308</th>\n",
       "      <td>1</td>\n",
       "      <td>0</td>\n",
       "      <td>0</td>\n",
       "      <td>1.252202</td>\n",
       "      <td>-0.150722</td>\n",
       "      <td>-0.531092</td>\n",
       "      <td>0.549065</td>\n",
       "      <td>0</td>\n",
       "    </tr>\n",
       "    <tr>\n",
       "      <th>38309</th>\n",
       "      <td>1</td>\n",
       "      <td>0</td>\n",
       "      <td>1</td>\n",
       "      <td>-0.759730</td>\n",
       "      <td>-0.424875</td>\n",
       "      <td>-0.531092</td>\n",
       "      <td>-0.579585</td>\n",
       "      <td>0</td>\n",
       "    </tr>\n",
       "    <tr>\n",
       "      <th>38310</th>\n",
       "      <td>1</td>\n",
       "      <td>0</td>\n",
       "      <td>0</td>\n",
       "      <td>2.163266</td>\n",
       "      <td>-0.219261</td>\n",
       "      <td>-0.531092</td>\n",
       "      <td>0.835066</td>\n",
       "      <td>0</td>\n",
       "    </tr>\n",
       "    <tr>\n",
       "      <th>38311</th>\n",
       "      <td>1</td>\n",
       "      <td>0</td>\n",
       "      <td>1</td>\n",
       "      <td>-1.262713</td>\n",
       "      <td>-0.356337</td>\n",
       "      <td>-0.531092</td>\n",
       "      <td>-0.724697</td>\n",
       "      <td>0</td>\n",
       "    </tr>\n",
       "  </tbody>\n",
       "</table>\n",
       "<p>38312 rows × 8 columns</p>\n",
       "</div>"
      ],
      "text/plain": [
       "       Customer_Type  Product  Category  Unit_Price  Quantity  Discount  \\\n",
       "0                  0        0         1   -0.123884  2.659342  2.369021   \n",
       "1                  0        0         1   -0.873613  1.425655  2.369021   \n",
       "2                  0        0         0    0.331648  2.042499  2.369021   \n",
       "3                  0        0         1   -1.291184 -0.082184  0.918965   \n",
       "4                  0        0         1   -0.389610 -0.767566  0.918965   \n",
       "...              ...      ...       ...         ...       ...       ...   \n",
       "38307              1        0         0    1.783656 -0.836104 -0.531092   \n",
       "38308              1        0         0    1.252202 -0.150722 -0.531092   \n",
       "38309              1        0         1   -0.759730 -0.424875 -0.531092   \n",
       "38310              1        0         0    2.163266 -0.219261 -0.531092   \n",
       "38311              1        0         1   -1.262713 -0.356337 -0.531092   \n",
       "\n",
       "       Total_Price  Region  \n",
       "0         2.156047       0  \n",
       "1         0.168242       0  \n",
       "2         2.369492       0  \n",
       "3        -0.679781       0  \n",
       "4        -0.732759       0  \n",
       "...            ...     ...  \n",
       "38307    -0.601851       0  \n",
       "38308     0.549065       0  \n",
       "38309    -0.579585       0  \n",
       "38310     0.835066       0  \n",
       "38311    -0.724697       0  \n",
       "\n",
       "[38312 rows x 8 columns]"
      ]
     },
     "execution_count": 7,
     "metadata": {},
     "output_type": "execute_result"
    }
   ],
   "source": [
    "scaler = StandardScaler()\n",
    "numeric_columns = X.select_dtypes(include=['int64', 'float64']).columns\n",
    "X[numeric_columns] = scaler.fit_transform(X[numeric_columns])\n",
    "X"
   ]
  },
  {
   "cell_type": "markdown",
   "metadata": {
    "id": "OUtPZIbJ2kxP"
   },
   "source": [
    "####Spliting Data"
   ]
  },
  {
   "cell_type": "code",
   "execution_count": 8,
   "metadata": {
    "colab": {
     "base_uri": "https://localhost:8080/"
    },
    "executionInfo": {
     "elapsed": 23,
     "status": "ok",
     "timestamp": 1744105381196,
     "user": {
      "displayName": "Yohanes Anantha",
      "userId": "06639557696555319351"
     },
     "user_tz": -420
    },
    "id": "OubAW-7ONKVj",
    "outputId": "0c42528a-8558-4991-831b-aae6af334d6c"
   },
   "outputs": [
    {
     "name": "stdout",
     "output_type": "stream",
     "text": [
      "Training set shape: X_train=(30649, 8), y_train=(30649,)\n",
      "Test set shape: X_test=(7663, 8), y_test=(7663,)\n"
     ]
    }
   ],
   "source": [
    "# Split data menjadi set pelatihan dan set uji\n",
    "X_train, X_test, y_train, y_test = train_test_split(X, y, test_size=0.2, random_state=69)\n",
    "\n",
    "# Tampilkan bentuk set pelatihan dan set uji untuk memastikan split\n",
    "print(f\"Training set shape: X_train={X_train.shape}, y_train={y_train.shape}\")\n",
    "print(f\"Test set shape: X_test={X_test.shape}, y_test={y_test.shape}\")"
   ]
  },
  {
   "cell_type": "markdown",
   "metadata": {
    "id": "IVPbB03CMhTT"
   },
   "source": [
    "# **4. Membangun Model Klasifikasi**\n"
   ]
  },
  {
   "cell_type": "markdown",
   "metadata": {
    "id": "Ned1pL9zMmBK"
   },
   "source": [
    "## **a. Membangun Model Klasifikasi**"
   ]
  },
  {
   "cell_type": "markdown",
   "metadata": {
    "id": "WAWzPOE4Nkti"
   },
   "source": [
    "Setelah memilih algoritma klasifikasi yang sesuai, langkah selanjutnya adalah melatih model menggunakan data latih.\n",
    "\n",
    "Berikut adalah rekomendasi tahapannya.\n",
    "1. Pilih algoritma klasifikasi yang sesuai, seperti Logistic Regression, Decision Tree, Random Forest, atau K-Nearest Neighbors (KNN).\n",
    "2. Latih model menggunakan data latih."
   ]
  },
  {
   "cell_type": "code",
   "execution_count": 9,
   "metadata": {
    "id": "4JYxBe87NLDk"
   },
   "outputs": [],
   "source": [
    "knn = KNeighborsClassifier().fit(X_train, y_train)\n",
    "rf = RandomForestClassifier().fit(X_train, y_train)"
   ]
  },
  {
   "cell_type": "markdown",
   "metadata": {
    "id": "seYoHNY3XU1y"
   },
   "source": [
    "- **K-Nearest Neighbors (KNN)** adalah algoritma pembelajaran mesin berbasis instance yang membuat prediksi dengan menggunakan informasi dari sejumlah data terdekat. Dalam prosesnya, KNN memanfaatkan pola atau kemiripan dalam data untuk menentukan hasil. Algoritma ini bekerja dengan mengelompokkan data baru berdasarkan kategori atau nilai dari data yang ada di sekitarnya. Cara ini memungkinkan KNN untuk menghasilkan prediksi yang akurat dengan memanfaatkan hubungan lokal antar data.\n",
    "\n",
    "- **Random Forest** adalah algoritma pembelajaran mesin berbasis ensemble yang menggabungkan beberapa pohon keputusan untuk menghasilkan prediksi yang lebih akurat dan stabil. Setiap pohon dalam hutan memberikan hasil prediksi berdasarkan subset data yang berbeda, sehingga mengurangi risiko kesalahan akibat overfitting atau bias dari satu pohon tunggal. Dengan metode penggabungan ini, Random Forest menjadi solusi yang andal untuk berbagai jenis klasifikasi data, bahkan dalam kondisi dataset yang besar dan kompleks.\n",
    "\n"
   ]
  },
  {
   "cell_type": "markdown",
   "metadata": {
    "id": "ergzChZFEL-O"
   },
   "source": [
    "## **b. Evaluasi Model Klasifikasi**"
   ]
  },
  {
   "cell_type": "markdown",
   "metadata": {},
   "source": [
    "#####Fungsi Menampilkan hasil evaluasi"
   ]
  },
  {
   "cell_type": "code",
   "execution_count": 10,
   "metadata": {},
   "outputs": [],
   "source": [
    "#List untuk menyimpan evaluasi\n",
    "evaluation_results = []\n",
    "\n",
    "#Fungsi Evaluasi\n",
    "def evaluate_model(name, model, X_test, y_test, results_list):\n",
    "    y_pred = model.predict(X_test)\n",
    "    accuracy = accuracy_score(y_test, y_pred)\n",
    "    precision = precision_score(y_test, y_pred, average = 'macro')\n",
    "    recall = recall_score(y_test, y_pred, average = 'macro')\n",
    "    f1 = f1_score(y_test, y_pred, average = 'macro')\n",
    "\n",
    "    print(f\"Model: {name}\")\n",
    "    print(f\"Accuracy: {accuracy:.4f}\")\n",
    "    print(f\"Precision: {precision:.4f}\")\n",
    "    print(f\"Recall: {recall:.4f}\")\n",
    "    print(f\"F1-Score: {f1:.4f}\")\n",
    "\n",
    "    results_list.append({\n",
    "        'Model': name,\n",
    "        'Accuracy': accuracy,\n",
    "        'Precision': precision,\n",
    "        'Recall': recall,\n",
    "        'F1-Score': f1\n",
    "    })\n",
    "\n",
    "    cm = confusion_matrix(y_test, y_pred)\n",
    "\n",
    "    # Plot confusion matrix dengan seaborn\n",
    "    plt.figure(figsize=(6, 4))\n",
    "    sns.heatmap(cm, annot=True, fmt='d', cmap='Blues')\n",
    "    plt.title(f'Confusion Matrix - {name}')\n",
    "    plt.ylabel('Actual')\n",
    "    plt.xlabel('Predicted')\n",
    "    plt.tight_layout()\n",
    "    plt.show()"
   ]
  },
  {
   "cell_type": "markdown",
   "metadata": {},
   "source": [
    "#####Evaluasi Data Training"
   ]
  },
  {
   "cell_type": "markdown",
   "metadata": {},
   "source": [
    "######KNN Model Training"
   ]
  },
  {
   "cell_type": "code",
   "execution_count": 11,
   "metadata": {},
   "outputs": [
    {
     "name": "stdout",
     "output_type": "stream",
     "text": [
      "Model: KNN Training\n",
      "Accuracy: 0.9993\n",
      "Precision: 0.9982\n",
      "Recall: 0.9983\n",
      "F1-Score: 0.9983\n"
     ]
    },
    {
     "data": {
      "image/png": "[encoded data removed]",
      "text/plain": [
       "<Figure size 600x400 with 2 Axes>"
      ]
     },
     "metadata": {},
     "output_type": "display_data"
    }
   ],
   "source": [
    "evaluate_model(\"KNN Training\", knn,X_train, y_train, evaluation_results)"
   ]
  },
  {
   "cell_type": "markdown",
   "metadata": {},
   "source": [
    "Berdasarkan hasil evaluasi data training, algoritma ini menghasilkan akurasi yang sangat tinggi yaitu 99,93%. Nilai precision, recall, dan F1-score juga sangat baik, masing-masing sebesar 0,9982, 0,9983, dan 0,9983. Confusion matrix menunjukkan bahwa sebagian besar prediksi KNN sangat tepat, terutama pada kelas 0 yang diprediksi sempurna tanpa kesalahan. Namun, terdapat sedikit kesalahan klasifikasi di kelas 1 (sebanyak 12 data salah diklasifikasikan ke kelas 2) dan kelas 2 (sebanyak 8 data salah diklasifikasikan ke kelas 1). Ini menunjukkan bahwa meskipun performanya sangat tinggi, KNN masih memiliki kelemahan dalam membedakan data yang sangat mirip antar kelas. Secara keseluruhan, KNN sangat efektif pada data ini, tetapi performanya bisa menurun jika digunakan pada dataset yang lebih besar dan tidak seimbang."
   ]
  },
  {
   "cell_type": "markdown",
   "metadata": {},
   "source": [
    "#####Random Forest Training"
   ]
  },
  {
   "cell_type": "code",
   "execution_count": 12,
   "metadata": {},
   "outputs": [
    {
     "name": "stdout",
     "output_type": "stream",
     "text": [
      "Model: Random Forest Training\n",
      "Accuracy: 1.0000\n",
      "Precision: 1.0000\n",
      "Recall: 1.0000\n",
      "F1-Score: 1.0000\n"
     ]
    },
    {
     "data": {
      "image/png": "[encoded data removed]",
      "text/plain": [
       "<Figure size 600x400 with 2 Axes>"
      ]
     },
     "metadata": {},
     "output_type": "display_data"
    }
   ],
   "source": [
    "evaluate_model(\"Random Forest Training\", rf,X_train, y_train, evaluation_results)"
   ]
  },
  {
   "cell_type": "markdown",
   "metadata": {},
   "source": [
    "Berdasarkan hasil pelatihan model, Random Forest menghasilkan akurasi sempurna yaitu 100%, dengan precision, recall, dan F1-score masing-masing juga mencapai 1.000. Ini berarti model berhasil mengklasifikasikan seluruh data training dengan tepat tanpa kesalahan sedikit pun. Confusion matrix menunjukkan bahwa seluruh data dari kelas 0, 1, dan 2 diprediksi dengan benar tanpa ada satu pun data yang salah klasifikasi. Performa sempurna ini menunjukkan bahwa model sangat memahami pola dalam data training. Namun, hasil yang terlalu sempurna seperti ini perlu diwaspadai karena bisa jadi merupakan tanda overfitting, di mana model terlalu \"menghafal\" data dan berpotensi gagal pada data baru. Meskipun demikian, Random Forest memiliki keunggulan dalam menangani data dengan banyak fitur dan kompleksitas tinggi. Secara keseluruhan, Random Forest sangat kuat dan efektif, tetapi perlu diuji lebih lanjut pada data uji (testing) untuk memastikan generalisasi model."
   ]
  },
  {
   "cell_type": "markdown",
   "metadata": {},
   "source": [
    "#####Evaluasi Model Testing "
   ]
  },
  {
   "cell_type": "markdown",
   "metadata": {
    "id": "RAcGXVotJm5T"
   },
   "source": [
    "######KNN Testing "
   ]
  },
  {
   "cell_type": "code",
   "execution_count": 13,
   "metadata": {
    "colab": {
     "base_uri": "https://localhost:8080/",
     "height": 494
    },
    "executionInfo": {
     "elapsed": 3362,
     "status": "ok",
     "timestamp": 1744105385542,
     "user": {
      "displayName": "Yohanes Anantha",
      "userId": "06639557696555319351"
     },
     "user_tz": -420
    },
    "id": "oT3UqfkMfOUd",
    "outputId": "d708859f-c1de-401a-ec6e-99e08085dfb0"
   },
   "outputs": [
    {
     "name": "stdout",
     "output_type": "stream",
     "text": [
      "Model: KNN Testing\n",
      "Accuracy: 0.9983\n",
      "Precision: 0.9955\n",
      "Recall: 0.9954\n",
      "F1-Score: 0.9955\n"
     ]
    },
    {
     "data": {
      "image/png": "[encoded data removed]",
      "text/plain": [
       "<Figure size 600x400 with 2 Axes>"
      ]
     },
     "metadata": {},
     "output_type": "display_data"
    }
   ],
   "source": [
    "evaluate_model(\"KNN Testing\", knn, X_test, y_test, evaluation_results)"
   ]
  },
  {
   "cell_type": "markdown",
   "metadata": {
    "id": "CPAapsPdK1JB"
   },
   "source": [
    "**Analisis KNN Testing**\n",
    "\n"
   ]
  },
  {
   "cell_type": "markdown",
   "metadata": {},
   "source": [
    "Berdasarkan hasil pengujian pada data testing, KNN menghasilkan akurasi sebesar 99,83%, menunjukkan performa yang sangat baik. Nilai precision (99,55%), recall (99,54%), dan F1-score (99,55%) menandakan bahwa model sangat akurat dalam mengklasifikasikan tiap kelas. Pada confusion matrix, terlihat bahwa hanya terdapat kesalahan kecil: 6 data dari kelas 1 diklasifikasikan sebagai kelas 2, dan 7 data dari kelas 2 salah diklasifikasikan sebagai kelas 1. Sementara itu, kelas 0 berhasil diklasifikasikan seluruhnya dengan benar sebanyak 5.729 data. Ini menunjukkan bahwa meskipun KNN sedikit salah dalam membedakan antara kelas 1 dan kelas 2, model tetap konsisten dalam menangani data secara keseluruhan. Hasil ini mencerminkan kemampuan KNN yang cukup baik, terutama untuk data yang distribusinya cukup bersih."
   ]
  },
  {
   "cell_type": "markdown",
   "metadata": {
    "id": "a9mkpMvPJsQU"
   },
   "source": [
    "#####Random Forest Testing"
   ]
  },
  {
   "cell_type": "code",
   "execution_count": 14,
   "metadata": {
    "colab": {
     "base_uri": "https://localhost:8080/",
     "height": 494
    },
    "executionInfo": {
     "elapsed": 475,
     "status": "ok",
     "timestamp": 1744105386018,
     "user": {
      "displayName": "Yohanes Anantha",
      "userId": "06639557696555319351"
     },
     "user_tz": -420
    },
    "id": "cIrytUX4Jhjn",
    "outputId": "96105693-8665-4c5a-88e9-596d08cf5cb4"
   },
   "outputs": [
    {
     "name": "stdout",
     "output_type": "stream",
     "text": [
      "Model: Random Forest Testing\n",
      "Accuracy: 1.0000\n",
      "Precision: 1.0000\n",
      "Recall: 1.0000\n",
      "F1-Score: 1.0000\n"
     ]
    },
    {
     "data": {
      "image/png": "[encoded data removed]",
      "text/plain": [
       "<Figure size 600x400 with 2 Axes>"
      ]
     },
     "metadata": {},
     "output_type": "display_data"
    }
   ],
   "source": [
    "evaluate_model(\"Random Forest Testing\",rf, X_test, y_test, evaluation_results)"
   ]
  },
  {
   "cell_type": "markdown",
   "metadata": {
    "id": "zNaTcVmgK-za"
   },
   "source": [
    "**Analisis Random Forest Testing**\n",
    "\n"
   ]
  },
  {
   "cell_type": "markdown",
   "metadata": {},
   "source": [
    "Berdasarkan hasil pengujian pada data testing menunjukkan bahwa model ini mencapai akurasi sempurna (100%) pada data testing, yang berarti tidak ada kesalahan klasifikasi sama sekali. Metrik lainnya, yaitu precision, recall, dan F1-score, juga bernilai 1.000, menunjukkan konsistensi tinggi dalam klasifikasi tiap kelas. Pada confusion matrix, setiap nilai aktual diklasifikasikan dengan benar tanpa adanya kesalahan; kelas 0 (5.729 data), kelas 1 (1.073 data), dan kelas 2 (861 data) seluruhnya diprediksi dengan tepat. Ini mengindikasikan bahwa model mampu menangani kompleksitas antar kelas dengan sangat efektif. Akurasi tinggi ini menunjukkan kelebihan Random Forest dalam menangani data berdimensi tinggi dan menghindari overfitting dengan menggunakan voting antar pohon. Selain itu, stabilitas model juga sangat baik karena mampu meminimalkan error bahkan pada data testing. Dengan performa sebaik ini, Random Forest terbukti menjadi model yang sangat andal untuk klasifikasi dengan ketepatan tinggi."
   ]
  },
  {
   "cell_type": "markdown",
   "metadata": {
    "id": "H4_9OwrsXZlz"
   },
   "source": [
    "**Analisis Perbandingan KNN vs Random Forest**\n",
    "\n"
   ]
  },
  {
   "cell_type": "markdown",
   "metadata": {},
   "source": [
    "Berdasarkan hasil analisis perbandingan model KNN dan Random Forest sama-sama digunakan untuk mengklasifikasikan data pada tahap pengujian (testing). Model Random Forest menunjukkan performa terbaik dengan akurasi, precision, recall, dan f1-score yang semuanya mencapai 100%, artinya tidak ada kesalahan klasifikasi. Sementara itu, model KNN juga menunjukkan hasil yang sangat baik dengan akurasi 99,83%, precision dan recall sebesar 99,55%. Namun, model KNN masih melakukan kesalahan kecil, yaitu salah mengklasifikasikan beberapa data pada kelas 1 dan kelas 2. Confusion matrix KNN menunjukkan ada 6 data kelas 1 yang diklasifikasikan sebagai kelas 2 dan 7 data kelas 2 yang diklasifikasikan sebagai kelas 1. Kesalahan ini bisa terjadi karena KNN lebih sensitif terhadap kemiripan data antar kelas. Sebaliknya, Random Forest lebih stabil karena menggunakan banyak decision tree yang mampu menangkap pola data secara kompleks. Dengan demikian, Random Forest merupakan model yang paling unggul dan dapat diandalkan pada data ini."
   ]
  },
  {
   "cell_type": "markdown",
   "metadata": {
    "id": "ph9yIYDXEPuB"
   },
   "source": [
    "## **c. Tuning Model Klasifikasi (Optional)**"
   ]
  },
  {
   "cell_type": "markdown",
   "metadata": {
    "id": "-Bikx3LINv5e"
   },
   "source": [
    "Gunakan GridSearchCV, RandomizedSearchCV, atau metode lainnya untuk mencari kombinasi hyperparameter terbaik\n",
    "Berikut adalah rekomendasi tahapannya.\n"
   ]
  },
  {
   "cell_type": "markdown",
   "metadata": {
    "id": "UHPoyAk7ON15"
   },
   "source": [
    "####Tuning KNN"
   ]
  },
  {
   "cell_type": "code",
   "execution_count": 15,
   "metadata": {
    "colab": {
     "base_uri": "https://localhost:8080/"
    },
    "executionInfo": {
     "elapsed": 166184,
     "status": "ok",
     "timestamp": 1744105552221,
     "user": {
      "displayName": "Yohanes Anantha",
      "userId": "06639557696555319351"
     },
     "user_tz": -420
    },
    "id": "ahH34meyI7JO",
    "outputId": "a3f57727-c5dd-4b14-ed0b-74f59ae4ed2d"
   },
   "outputs": [
    {
     "name": "stdout",
     "output_type": "stream",
     "text": [
      "Fitting 5 folds for each of 20 candidates, totalling 100 fits\n",
      "Parameter terbaik untuk KNN: {'weights': 'distance', 'p': 1, 'n_neighbors': 9, 'algorithm': 'ball_tree'}\n",
      "Skor cross-validation terbaik: 0.9989\n"
     ]
    }
   ],
   "source": [
    "base_knn = KNeighborsClassifier()\n",
    "# Parameter grid untuk KNN\n",
    "knn_param_grid = {\n",
    "    'n_neighbors': [3, 5, 7, 9, 11],\n",
    "    'weights': ['uniform', 'distance'],\n",
    "    'algorithm': ['auto', 'ball_tree', 'kd_tree', 'brute'],\n",
    "    'p': [1, 2]  # p=1 untuk manhattan_distance, p=2 untuk euclidean_distance\n",
    "}\n",
    "\n",
    "# Inisialisasi GridSearchCV untuk KNN\n",
    "knn_random_search = RandomizedSearchCV(\n",
    "    estimator=base_knn,\n",
    "    param_distributions=knn_param_grid,\n",
    "    n_iter=20,  # Jumlah kombinasi acak yang dicoba\n",
    "    cv=5,\n",
    "    scoring='accuracy',\n",
    "    n_jobs=-1,\n",
    "    verbose=1,\n",
    "    random_state=42\n",
    ")\n",
    "\n",
    "# Fit model KNN dengan pencarian parameter\n",
    "knn_random_search.fit(X_train, y_train)\n",
    "\n",
    "# Cetak hasil terbaik\n",
    "print(\"Parameter terbaik untuk KNN:\", knn_random_search.best_params_)\n",
    "print(f\"Skor cross-validation terbaik: {knn_random_search.best_score_:.4f}\")"
   ]
  },
  {
   "cell_type": "markdown",
   "metadata": {
    "id": "gCLFZmQXOnUV"
   },
   "source": [
    "#####Tuning Random Forest"
   ]
  },
  {
   "cell_type": "code",
   "execution_count": 16,
   "metadata": {
    "colab": {
     "base_uri": "https://localhost:8080/"
    },
    "executionInfo": {
     "elapsed": 122472,
     "status": "ok",
     "timestamp": 1744105674690,
     "user": {
      "displayName": "Yohanes Anantha",
      "userId": "06639557696555319351"
     },
     "user_tz": -420
    },
    "id": "U15IBttjOqVj",
    "outputId": "b3f81e72-d12e-45ed-c5a7-e9faafce27fe"
   },
   "outputs": [
    {
     "name": "stdout",
     "output_type": "stream",
     "text": [
      "Fitting 5 folds for each of 20 candidates, totalling 100 fits\n",
      "Best parameters for Random Forest: {'bootstrap': True, 'max_depth': None, 'max_features': 'sqrt', 'min_samples_leaf': 4, 'min_samples_split': 10, 'n_estimators': 171}\n",
      "Best cross-validation score: 1.0000\n"
     ]
    }
   ],
   "source": [
    "base_rf = RandomForestClassifier(random_state=42)\n",
    "rf_param_dist = {\n",
    "    'n_estimators': randint(100, 300),\n",
    "    'max_depth': [10, 20, 30, None],\n",
    "    'min_samples_split': [2, 5, 10],\n",
    "    'min_samples_leaf': [1, 2, 4],\n",
    "    'max_features': ['sqrt', 'log2'],\n",
    "    'bootstrap': [True, False]\n",
    "}\n",
    "\n",
    "# RandomizedSearchCV untuk Random Forest\n",
    "rf_random_search = RandomizedSearchCV(\n",
    "    estimator=base_rf,\n",
    "    param_distributions=rf_param_dist,\n",
    "    n_iter=20,\n",
    "    cv=5,\n",
    "    scoring='accuracy',\n",
    "    verbose=1,\n",
    "    n_jobs=-1,\n",
    "    random_state=42\n",
    ")\n",
    "\n",
    "rf_random_search.fit(X_train, y_train)\n",
    "\n",
    "print(f\"Best parameters for Random Forest: {rf_random_search.best_params_}\")\n",
    "print(f\"Best cross-validation score: {rf_random_search.best_score_:.4f}\")"
   ]
  },
  {
   "cell_type": "markdown",
   "metadata": {
    "id": "j34puJX9I0bp"
   },
   "source": [
    "## **d. Evaluasi Model Klasifikasi setelah Tuning (Optional)**"
   ]
  },
  {
   "cell_type": "markdown",
   "metadata": {
    "id": "RKm2xWIYI4cm"
   },
   "source": [
    "1. Gunakan model dengan hyperparameter terbaik.\n",
    "2. Hitung ulang metrik evaluasi untuk melihat apakah ada peningkatan performa."
   ]
  },
  {
   "cell_type": "markdown",
   "metadata": {
    "id": "skTT0W2dl22b"
   },
   "source": [
    "#### Evaluasi Tuning KNN"
   ]
  },
  {
   "cell_type": "code",
   "execution_count": 17,
   "metadata": {
    "colab": {
     "base_uri": "https://localhost:8080/",
     "height": 494
    },
    "executionInfo": {
     "elapsed": 2866,
     "status": "ok",
     "timestamp": 1744105677554,
     "user": {
      "displayName": "Yohanes Anantha",
      "userId": "06639557696555319351"
     },
     "user_tz": -420
    },
    "id": "oZ9x17SDlTZn",
    "outputId": "5aeaf33f-8ce8-48b6-d8c8-c419ffcee422"
   },
   "outputs": [
    {
     "name": "stdout",
     "output_type": "stream",
     "text": [
      "Model: KNN after tuning\n",
      "Accuracy: 0.9988\n",
      "Precision: 0.9968\n",
      "Recall: 0.9969\n",
      "F1-Score: 0.9969\n"
     ]
    },
    {
     "data": {
      "image/png": "[encoded data removed]",
      "text/plain": [
       "<Figure size 600x400 with 2 Axes>"
      ]
     },
     "metadata": {},
     "output_type": "display_data"
    }
   ],
   "source": [
    "best_knn = knn_random_search.best_estimator_\n",
    "evaluate_model(\"KNN after tuning\",  best_knn, X_test, y_test, evaluation_results)"
   ]
  },
  {
   "cell_type": "markdown",
   "metadata": {
    "id": "qU0ur-gwmIkQ"
   },
   "source": [
    "#### Evaluasi Tuning Random Forest"
   ]
  },
  {
   "cell_type": "code",
   "execution_count": 18,
   "metadata": {
    "colab": {
     "base_uri": "https://localhost:8080/",
     "height": 494
    },
    "executionInfo": {
     "elapsed": 234,
     "status": "ok",
     "timestamp": 1744105677789,
     "user": {
      "displayName": "Yohanes Anantha",
      "userId": "06639557696555319351"
     },
     "user_tz": -420
    },
    "id": "HTXZRvEeNMb1",
    "outputId": "e354f929-e6df-4b0b-f725-c6457a4a40e1"
   },
   "outputs": [
    {
     "name": "stdout",
     "output_type": "stream",
     "text": [
      "Model: Random Forest after tuning\n",
      "Accuracy: 0.9999\n",
      "Precision: 0.9997\n",
      "Recall: 0.9996\n",
      "F1-Score: 0.9997\n"
     ]
    },
    {
     "data": {
      "image/png": "[encoded data removed]",
      "text/plain": [
       "<Figure size 600x400 with 2 Axes>"
      ]
     },
     "metadata": {},
     "output_type": "display_data"
    }
   ],
   "source": [
    "best_rf = rf_random_search.best_estimator_\n",
    "evaluate_model(\"Random Forest after tuning\", best_rf, X_test, y_test, evaluation_results)"
   ]
  },
  {
   "cell_type": "markdown",
   "metadata": {
    "id": "ZRsOdm4uEgAW"
   },
   "source": [
    "## **e. Analisis Hasil Evaluasi Model Klasifikasi**"
   ]
  },
  {
   "cell_type": "code",
   "execution_count": 19,
   "metadata": {
    "colab": {
     "base_uri": "https://localhost:8080/",
     "height": 192
    },
    "executionInfo": {
     "elapsed": 19,
     "status": "ok",
     "timestamp": 1744105677810,
     "user": {
      "displayName": "Yohanes Anantha",
      "userId": "06639557696555319351"
     },
     "user_tz": -420
    },
    "id": "ftfEJFJWYJoD",
    "outputId": "57e80428-5449-4418-ac28-35aad9f2a702"
   },
   "outputs": [
    {
     "name": "stdout",
     "output_type": "stream",
     "text": [
      "Tabel Perbandingan Evaluasi Model:\n"
     ]
    },
    {
     "data": {
      "text/html": [
       "<div>\n",
       "<style scoped>\n",
       "    .dataframe tbody tr th:only-of-type {\n",
       "        vertical-align: middle;\n",
       "    }\n",
       "\n",
       "    .dataframe tbody tr th {\n",
       "        vertical-align: top;\n",
       "    }\n",
       "\n",
       "    .dataframe thead th {\n",
       "        text-align: right;\n",
       "    }\n",
       "</style>\n",
       "<table border=\"1\" class=\"dataframe\">\n",
       "  <thead>\n",
       "    <tr style=\"text-align: right;\">\n",
       "      <th></th>\n",
       "      <th>Model</th>\n",
       "      <th>Accuracy</th>\n",
       "      <th>Precision</th>\n",
       "      <th>Recall</th>\n",
       "      <th>F1-Score</th>\n",
       "    </tr>\n",
       "  </thead>\n",
       "  <tbody>\n",
       "    <tr>\n",
       "      <th>0</th>\n",
       "      <td>KNN Training</td>\n",
       "      <td>0.999347</td>\n",
       "      <td>0.998249</td>\n",
       "      <td>0.998333</td>\n",
       "      <td>0.998291</td>\n",
       "    </tr>\n",
       "    <tr>\n",
       "      <th>1</th>\n",
       "      <td>Random Forest Training</td>\n",
       "      <td>1.000000</td>\n",
       "      <td>1.000000</td>\n",
       "      <td>1.000000</td>\n",
       "      <td>1.000000</td>\n",
       "    </tr>\n",
       "    <tr>\n",
       "      <th>2</th>\n",
       "      <td>KNN Testing</td>\n",
       "      <td>0.998304</td>\n",
       "      <td>0.995502</td>\n",
       "      <td>0.995426</td>\n",
       "      <td>0.995464</td>\n",
       "    </tr>\n",
       "    <tr>\n",
       "      <th>3</th>\n",
       "      <td>Random Forest Testing</td>\n",
       "      <td>1.000000</td>\n",
       "      <td>1.000000</td>\n",
       "      <td>1.000000</td>\n",
       "      <td>1.000000</td>\n",
       "    </tr>\n",
       "    <tr>\n",
       "      <th>4</th>\n",
       "      <td>KNN after tuning</td>\n",
       "      <td>0.998826</td>\n",
       "      <td>0.996823</td>\n",
       "      <td>0.996898</td>\n",
       "      <td>0.996860</td>\n",
       "    </tr>\n",
       "    <tr>\n",
       "      <th>5</th>\n",
       "      <td>Random Forest after tuning</td>\n",
       "      <td>0.999870</td>\n",
       "      <td>0.999690</td>\n",
       "      <td>0.999613</td>\n",
       "      <td>0.999651</td>\n",
       "    </tr>\n",
       "  </tbody>\n",
       "</table>\n",
       "</div>"
      ],
      "text/plain": [
       "                        Model  Accuracy  Precision    Recall  F1-Score\n",
       "0                KNN Training  0.999347   0.998249  0.998333  0.998291\n",
       "1      Random Forest Training  1.000000   1.000000  1.000000  1.000000\n",
       "2                 KNN Testing  0.998304   0.995502  0.995426  0.995464\n",
       "3       Random Forest Testing  1.000000   1.000000  1.000000  1.000000\n",
       "4            KNN after tuning  0.998826   0.996823  0.996898  0.996860\n",
       "5  Random Forest after tuning  0.999870   0.999690  0.999613  0.999651"
      ]
     },
     "execution_count": 19,
     "metadata": {},
     "output_type": "execute_result"
    }
   ],
   "source": [
    "results_df = pd.DataFrame(evaluation_results)\n",
    "print(\"Tabel Perbandingan Evaluasi Model:\")\n",
    "results_df"
   ]
  },
  {
   "cell_type": "markdown",
   "metadata": {
    "id": "Hm3BhSi6N4_l"
   },
   "source": [
    "Berikut adalah **rekomendasi** tahapannya.\n",
    "1. Bandingkan hasil evaluasi sebelum dan setelah tuning (jika dilakukan).\n",
    "2. Identifikasi kelemahan model, seperti:\n",
    "  - Precision atau Recall rendah untuk kelas tertentu.\n",
    "  - Apakah model mengalami overfitting atau underfitting?\n",
    "3. Berikan rekomendasi tindakan lanjutan, seperti mengumpulkan data tambahan atau mencoba algoritma lain jika hasil belum memuaskan."
   ]
  },
  {
   "cell_type": "markdown",
   "metadata": {
    "id": "UJvS3i5xaw3d"
   },
   "source": [
    "####**1. Perbandingan Hasil Evaluasi Sebelum dan Setelah Tuning**\n",
    "Berdasarkan hasil evaluasi yang ditampilkan, tuning memberikan dampak berbeda pada masing-masing model:\n",
    "- **KNN** menunjukkan peningkatan kinerja setelah tuning, dengan Accuracy naik dari 0.998304 menjadi 0.998826, Precision meningkat dari 0.995502 ke 0.996823, Recall dari 0.995426 ke 0.996898, dan F1-Score dari 0.995464 ke 0.996860.\n",
    "- **Random Forest** justru mengalami sedikit penurunan performa setelah tuning, di mana Accuracy turun dari 1.0 ke 0.999870, Precision dari 1.0 ke 0.999690, Recall dari 1.0 ke 0.999613, dan F1-Score dari 1.0 ke 0.999651.\n",
    "\n",
    "Ini menunjukkan bahwa tuning pada KNN cukup efektif untuk meningkatkan performa meskipun dalam skala kecil, sementara pada Random Forest, tuning tampaknya mengurangi overfitting dan membuat model sedikit lebih general namun tetap sangat akurat. Tuning tetap penting karena dapat berdampak pada efisiensi model dan kemampuannya untuk menghadapi data baru.\n",
    "\n",
    "\n",
    "####**2. Identifikasi Kelemahan Model**\n",
    "**a. Tidak Ada Indikasi Precision atau Recall Rendah**  \n",
    "Seluruh metrik evaluasi (Precision, Recall, F1-Score) untuk kedua model menunjukkan angka di atas 0.99, baik sebelum maupun sesudah tuning. Artinya, kedua model sangat mampu mengklasifikasikan data secara tepat dan sensitif tanpa menghasilkan kesalahan klasifikasi yang signifikan.\n",
    "\n",
    "**b. Indikasi Potensi Overfitting**  \n",
    "Model Random Forest menunjukkan metrik sempurna (nilai 1.0) pada data training dan testing sebelum tuning, yang merupakan tanda kemungkinan overfitting. Setelah tuning, nilai sedikit menurun, yang menunjukkan adanya perbaikan dalam generalisasi model. Sebaliknya, KNN menunjukkan hasil evaluasi yang hampir seimbang antara data training dan testing, serta sedikit peningkatan setelah tuning, menandakan bahwa model ini relatif lebih stabil dan tidak mengalami overfitting secara ekstrem.\n",
    "\n",
    "###**3. Rekomendasi Tindakan Lanjutan**\n",
    "- **Validasi Silang (Cross-Validation):**\n",
    "Untuk memastikan tidak terjadi overfitting, lakukan validasi silang seperti k-fold cross-validation, agar performa model diuji pada berbagai subset data dan tidak hanya berdasarkan satu pembagian train-test saja.\n",
    "\n",
    "- **Evaluasi pada Data Nyata atau Data Baru:**\n",
    "Cobalah model ini pada data real-world atau dataset yang belum pernah dilihat sebelumnya untuk menilai kemampuan generalisasi secara aktual.\n",
    "\n",
    "- **Pertimbangkan Pengumpulan Data Tambahan:**\n",
    "Jika jumlah data saat ini tergolong kecil atau terlalu mudah dipelajari oleh model, pengumpulan data tambahan dapat membantu menciptakan tantangan lebih kompleks agar model lebih realistis dan akurat secara general.\n",
    "\n",
    "- **Uji dengan Algoritma Lain (Optional):**\n",
    "mencoba pendekatan dengan algoritma lain seperti XGBoost, SVM, atau Neural Network untuk melihat apakah hasil masih tetap konsisten sempurna. Ini juga penting untuk menguji robustness dan diversitas model.\n",
    "\n",
    "\n",
    "\n"
   ]
  }
 ],
 "metadata": {
  "colab": {
   "provenance": [
    {
     "file_id": "1dygqHl-RYE0PmGXP74G__HNnnpjzoOT4",
     "timestamp": 1743929288377
    },
    {
     "file_id": "1d7-aiqmhHzOhHJtdj5TaBJnyf1pIN-rs",
     "timestamp": 1729232680021
    }
   ]
  },
  "kernelspec": {
   "display_name": "Python 3",
   "name": "python3"
  },
  "language_info": {
   "codemirror_mode": {
    "name": "ipython",
    "version": 3
   },
   "file_extension": ".py",
   "mimetype": "text/x-python",
   "name": "python",
   "nbconvert_exporter": "python",
   "pygments_lexer": "ipython3",
   "version": "3.12.6"
  }
 },
 "nbformat": 4,
 "nbformat_minor": 0
}
